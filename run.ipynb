{
  "nbformat": 4,
  "nbformat_minor": 0,
  "metadata": {
    "colab": {
      "provenance": []
    },
    "kernelspec": {
      "name": "python3",
      "display_name": "Python 3"
    },
    "language_info": {
      "name": "python"
    }
  },
  "cells": [
    {
      "cell_type": "code",
      "execution_count": null,
      "metadata": {
        "id": "_a7NFlGSMomM",
        "colab": {
          "base_uri": "https://localhost:8080/"
        },
        "outputId": "f945430d-8c33-4e8c-da0b-79563f8a4fd5"
      },
      "outputs": [
        {
          "output_type": "stream",
          "name": "stdout",
          "text": [
            "Drive already mounted at /content/drive; to attempt to forcibly remount, call drive.mount(\"/content/drive\", force_remount=True).\n"
          ]
        }
      ],
      "source": [
        "from google.colab import drive\n",
        "\n",
        "drive.mount('/content/drive')"
      ]
    },
    {
      "cell_type": "code",
      "source": [
        "import gnn\n",
        "import utils\n",
        "import eval"
      ],
      "metadata": {
        "id": "l21hV4lOWSxE"
      },
      "execution_count": null,
      "outputs": []
    },
    {
      "cell_type": "markdown",
      "source": [
        "## Edge Features\n",
        "\n",
        "1. Player Distance\n",
        "\n",
        "2. Speed Difference\n",
        "\n",
        "3. Positional Sine angle\n",
        "\n",
        "4. Positional Cosine angle\n",
        "\n",
        "5. Velocity Sine angle\n",
        "\n",
        "6. Velocity Cosine angle\n",
        "\n",
        "## Node Features\n",
        "\n",
        "1. x coordinate\n",
        "\n",
        "2. y coordinate\n",
        "\n",
        "3. vX\n",
        "\n",
        "4. vY\n",
        "\n",
        "5. Velocity\n",
        "\n",
        "6. Velocity Angle\n",
        "\n",
        "7. Distance to Goal\n",
        "\n",
        "8. Angle with Goal\n",
        "\n",
        "9. Distance to Ball\n",
        "\n",
        "10. Angle with Ball\n",
        "\n",
        "11. Attacking Team Flag\n",
        "\n",
        "12. Potential Receiver\n",
        "\n",
        "\n",
        "## Matrix Type\n",
        "\n",
        "1. normal\n",
        "2. delaunay\n",
        "3. dense\n",
        "4. dense_ap\n",
        "5. dense_dp"
      ],
      "metadata": {
        "id": "ecAy7pNju9la"
      }
    },
    {
      "cell_type": "code",
      "source": [
        "og_data = get_data(\"women.pkl\")\n",
        "\n",
        "edge_feature = [0,1,2,3]\n",
        "node_feature = [0,2,3,4,5,7,10,11]\n",
        "matrix_type = \"normal\"\n",
        "data_flt = filter_features(edge_feature,node_feature,matrix_type,og_data.copy())"
      ],
      "metadata": {
        "id": "lY8YHNQd16ao"
      },
      "execution_count": null,
      "outputs": []
    },
    {
      "cell_type": "code",
      "source": [
        "learning_rate = 1e-3\n",
        "epochs = 300\n",
        "batch_size = 16\n",
        "channels = 128\n",
        "layers = 3"
      ],
      "metadata": {
        "id": "Z_Ou3OLwtnZd"
      },
      "execution_count": null,
      "outputs": []
    },
    {
      "cell_type": "code",
      "source": [
        "loader_tr, loader_te, model = create_and_train_model(data_flt, matrix_type, learning_rate, epochs, batch_size, channels, layers)"
      ],
      "metadata": {
        "id": "maXt3tsdtlGv"
      },
      "execution_count": null,
      "outputs": []
    },
    {
      "cell_type": "code",
      "source": [
        "roc_auc(loader_te,model)"
      ],
      "metadata": {
        "id": "aSKYhbpnuvf8"
      },
      "execution_count": null,
      "outputs": []
    },
    {
      "cell_type": "code",
      "source": [
        "ece(data_flt, matrix_type, model)"
      ],
      "metadata": {
        "id": "jQR9x7YL1V36"
      },
      "execution_count": null,
      "outputs": []
    }
  ]
}